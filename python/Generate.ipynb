{
 "cells": [
  {
   "cell_type": "code",
   "execution_count": 80,
   "metadata": {},
   "outputs": [],
   "source": [
    "# No es el CMYK verdadero, es un CMYK de W3School, el verdadero se obtiene al transformar esta escala en RGB y de ahi a CMYK\n",
    "def cmyk(cpt):\n",
    "    cmyk_matrix = np.ndarray((len(cpt), 4), int)\n",
    "    # Iteramos por las filas de tabla\n",
    "    for i in range(len(cpt)):\n",
    "        cmyk_array = [0, 0, 0, 0]\n",
    "        absent_value = cpt[i][0]\n",
    "        max_index = 1\n",
    "\n",
    "        # Iterate through non-absent states to determine the index of max color\n",
    "        for j in range(1, 4, 1):\n",
    "            if cpt[i][j] > cpt[i][max_index]:\n",
    "                max_index = j\n",
    "\n",
    "        # Determine the max_color value\n",
    "        max_color = 100 - (absent_value * 100)\n",
    "\n",
    "        # Iterate through non-absent states to determine their color\n",
    "        for j in range(1, 4, 1):\n",
    "            if j == max_index:\n",
    "                cmyk_array[j-1] = max_color\n",
    "            else:\n",
    "                color = (cpt[i][j] * max_color) / cpt[i][max_index]  # Regla de 3 para obtener la proporcion\n",
    "                cmyk_array[j-1] = color\n",
    "\n",
    "        # Add the color array to the matrix\n",
    "        cmyk_matrix[i] = cmyk_array\n",
    "\n",
    "    return cmyk_matrix\n",
    "\n",
    "def cmyk_to_hex_matrix(cmyk_matrix):\n",
    "    hex_array = []\n",
    "    for i in range(0, len(cmyk_matrix)):\n",
    "        cmyk_array = cmyk_matrix[i]\n",
    "        c = cmyk_array[0]\n",
    "        m = cmyk_array[1]\n",
    "        y = cmyk_array[2]\n",
    "        k = cmyk_array[3]\n",
    "        r = 255*(1.0-(c+k)/float(100))\n",
    "        g = 255*(1.0-(m+k)/float(100))\n",
    "        b = 255*(1.0-(y+k)/float(100))\n",
    "        rgb = (int(r),int(g),int(b))\n",
    "        hex = '#%02x%02x%02x' % rgb\n",
    "        hex_array.append(hex)\n",
    "    return np.asarray(hex_array)\n"
   ]
  },
  {
   "cell_type": "code",
   "execution_count": 66,
   "metadata": {},
   "outputs": [],
   "source": [
    "import pandas\n",
    "import numpy as np\n",
    "\n",
    "# Cargamos las CPTs de cada uno de los genes para el cluster correspondiente en forma de pandas DF (uno por cada cluster)\n",
    "marginals = pandas.read_csv(\"heatmap_cpts/marginals.csv\")\n",
    "marginals = marginals.values\n",
    "\n",
    "# Generamos los vectores de colores para mostrarlos en forma de tabla\n",
    "marginal_colors = cmyk(marginals)\n",
    "marginal_colors = cmyk_to_hex_matrix(marginal_colors)"
   ]
  },
  {
   "cell_type": "code",
   "execution_count": 79,
   "metadata": {},
   "outputs": [
    {
     "data": {
      "image/png": "[encoded data removed]",
      "text/plain": [
       "<Figure size 432x288 with 1 Axes>"
      ]
     },
     "metadata": {
      "needs_background": "light"
     },
     "output_type": "display_data"
    }
   ],
   "source": [
    "import matplotlib.pyplot as plt\n",
    "\n",
    "cols = list(range(1,101))\n",
    "base_colors = []\n",
    "for i in range(1,101):\n",
    "    base_colors.append(\"w\")\n",
    "\n",
    "rows = [\"marginal\"]\n",
    "\n",
    "# Creamos la tabla\n",
    "fig, ax = plt.subplots()\n",
    "ax.axis('tight')\n",
    "ax.axis('off')\n",
    "the_table = ax.table(cellColours=base_colors)\n",
    "\n",
    "# Pintamos la tabla con los colores de la marginal\n",
    "for i in range(0, 100):\n",
    "    the_table._cells[(i, 0)].set_facecolor(marginal_colors[i])\n",
    "    j = 0\n",
    "plt.show()"
   ]
  },
  {
   "cell_type": "code",
   "execution_count": 67,
   "metadata": {},
   "outputs": [
    {
     "data": {
      "text/plain": [
       "'#70ffff'"
      ]
     },
     "execution_count": 67,
     "metadata": {},
     "output_type": "execute_result"
    }
   ],
   "source": [
    "for i in range(0, 100):\n",
    "    the_table._cells[(i, 0)].set_facecolor(marginal_colors[i])"
   ]
  },
  {
   "cell_type": "code",
   "execution_count": 73,
   "metadata": {},
   "outputs": [],
   "source": [
    "the_table._cells[(0, 0)].set_facecolor(\"#70ffff\")\n",
    "plt.show()"
   ]
  }
 ],
 "metadata": {
  "kernelspec": {
   "display_name": "Python 3",
   "language": "python",
   "name": "python3"
  },
  "language_info": {
   "codemirror_mode": {
    "name": "ipython",
    "version": 3
   },
   "file_extension": ".py",
   "mimetype": "text/x-python",
   "name": "python",
   "nbconvert_exporter": "python",
   "pygments_lexer": "ipython3",
   "version": "3.7.1"
  }
 },
 "nbformat": 4,
 "nbformat_minor": 2
}
