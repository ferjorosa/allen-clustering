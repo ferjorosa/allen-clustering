{
 "cells": [
  {
   "cell_type": "markdown",
   "metadata": {},
   "source": [
    "# Feature clustering\n",
    "\n",
    "El objetivo es aplicar varios algoritmos de clustering sobre la transpuesta de los datos y quedarnos con el que nos de un numero de clusters adecuado."
   ]
  },
  {
   "cell_type": "markdown",
   "metadata": {},
   "source": [
    "## 1 - Cargamos la matriz de distancias entre features"
   ]
  },
  {
   "cell_type": "code",
   "execution_count": 1,
   "metadata": {},
   "outputs": [
    {
     "name": "stdout",
     "output_type": "stream",
     "text": [
      "40.736904445segundos para cargar\n",
      "(48278, 48278)\n"
     ]
    }
   ],
   "source": [
    "import pyarrow.parquet as pq\n",
    "import pandas as pd\n",
    "import numpy as np\n",
    "from timeit import default_timer as timer\n",
    "\n",
    "# Cargamos la matriz de distancias entre cada par de atributos del dataSet (a partir de los datos normalizados)\n",
    "start = timer()\n",
    "manhattan_dist = pd.read_parquet(\"../../allen-molecular/data_mtg/48278/continuous/exon_data_48278_manhattan_attributes.gzip\")\n",
    "end = timer()\n",
    "print(str(end- start) + \"segundos para cargar\")\n",
    "print(manhattan_dist.shape)"
   ]
  },
  {
   "cell_type": "markdown",
   "metadata": {},
   "source": [
    "## 2 - Normalizamos"
   ]
  },
  {
   "cell_type": "code",
   "execution_count": 2,
   "metadata": {},
   "outputs": [
    {
     "data": {
      "text/plain": [
       "(48278, 48278)"
      ]
     },
     "execution_count": 2,
     "metadata": {},
     "output_type": "execute_result"
    }
   ],
   "source": [
    "from sklearn.preprocessing import MinMaxScaler\n",
    "\n",
    "scaler = MinMaxScaler()\n",
    "manhattan_dist = scaler.fit_transform(manhattan_dist)\n",
    "#manhattan_dist = manhattan_dist.astype(np.float32)\n",
    "manhattan_dist.shape"
   ]
  },
  {
   "cell_type": "markdown",
   "metadata": {},
   "source": [
    "## 3 - Almacenamos los datos"
   ]
  },
  {
   "cell_type": "code",
   "execution_count": 3,
   "metadata": {},
   "outputs": [],
   "source": [
    "manhattan_dist = pd.DataFrame(manhattan_dist)\n",
    "manhattan_dist.columns = manhattan_dist.columns.astype(str)\n",
    "manhattan_dist.to_parquet(\"exon_data_48278_manhattan_attributes_normalized.gzip\", compression=\"gzip\")"
   ]
  },
  {
   "cell_type": "markdown",
   "metadata": {},
   "source": [
    "# -------------------------------------------------------------"
   ]
  },
  {
   "cell_type": "markdown",
   "metadata": {},
   "source": [
    "## Cargamos los datos normalizados"
   ]
  },
  {
   "cell_type": "code",
   "execution_count": 1,
   "metadata": {},
   "outputs": [
    {
     "name": "stdout",
     "output_type": "stream",
     "text": [
      "110.63944766399982segundos para cargar\n",
      "(48278, 48278)\n"
     ]
    }
   ],
   "source": [
    "import pyarrow.parquet as pq\n",
    "import pandas as pd\n",
    "import numpy as np\n",
    "from timeit import default_timer as timer\n",
    "\n",
    "# Cargamos la matriz de distancias entre cada par de atributos del dataSet (a partir de los datos normalizados)\n",
    "start = timer()\n",
    "manhattan_dist = pd.read_parquet(\"../../allen-molecular/data_mtg/48278/continuous/exon_data_48278_manhattan_attributes_normalized_float32.gzip\")\n",
    "end = timer()\n",
    "print(str(end- start) + \"segundos para cargar\")\n",
    "print(manhattan_dist.shape)"
   ]
  },
  {
   "cell_type": "code",
   "execution_count": 42,
   "metadata": {},
   "outputs": [],
   "source": [
    "manhattan_dist_diag = np.diag(manhattan_dist)\n",
    "manhattan_dist_upper = np.triu(manhattan_dist)\n",
    "new_manhattan_dist = np.zeros((48278, 48278))\n",
    "new_manhattan_dist = new_manhattan_dist + manhattan_dist_diag + manhattan_dist_upper + np.transpose(manhattan_dist_upper)"
   ]
  },
  {
   "cell_type": "code",
   "execution_count": 45,
   "metadata": {},
   "outputs": [
    {
     "name": "stdout",
     "output_type": "stream",
     "text": [
      "0.0016881251\n",
      "0.0016884792130440474\n",
      "0.0016884792\n",
      "0.0016884792130440474\n"
     ]
    }
   ],
   "source": [
    "print(manhattan_dist.iloc[2,0])\n",
    "print(new_manhattan_dist[2,0])\n",
    "print(manhattan_dist.iloc[0,2])\n",
    "print(new_manhattan_dist[0,2])"
   ]
  },
  {
   "cell_type": "markdown",
   "metadata": {},
   "source": [
    "## 2 - Llamamos a los diferentes metodos de clustering"
   ]
  },
  {
   "cell_type": "markdown",
   "metadata": {},
   "source": [
    "### 2.1 - Affinity propagation"
   ]
  },
  {
   "cell_type": "code",
   "execution_count": 2,
   "metadata": {},
   "outputs": [
    {
     "name": "stdout",
     "output_type": "stream",
     "text": [
      "76674.238733777segundos para aprender\n"
     ]
    },
    {
     "data": {
      "text/plain": [
       "['ap_result.joblib']"
      ]
     },
     "execution_count": 2,
     "metadata": {},
     "output_type": "execute_result"
    }
   ],
   "source": [
    "from sklearn.cluster import AffinityPropagation\n",
    "from joblib import dump\n",
    "\n",
    "start = timer()\n",
    "ap_result = AffinityPropagation(affinity = \"precomputed\", max_iter = 1500).fit(manhattan_dist)\n",
    "end = timer()\n",
    "print(str(end- start) + \"segundos para aprender\")\n",
    "\n",
    "dump(ap_result, \"ap_result.joblib\")"
   ]
  },
  {
   "cell_type": "code",
   "execution_count": 8,
   "metadata": {},
   "outputs": [
    {
     "name": "stdout",
     "output_type": "stream",
     "text": [
      "{0, 1}\n"
     ]
    }
   ],
   "source": [
    "myset = set(ap_result.labels_)\n",
    "print(myset)"
   ]
  },
  {
   "cell_type": "markdown",
   "metadata": {},
   "source": [
    "### 2.2 - DBSCAN"
   ]
  },
  {
   "cell_type": "code",
   "execution_count": 46,
   "metadata": {},
   "outputs": [
    {
     "name": "stdout",
     "output_type": "stream",
     "text": [
      "64.27273856100055segundos para aprender\n"
     ]
    },
    {
     "data": {
      "text/plain": [
       "['dbscan_result_0_05.joblib']"
      ]
     },
     "execution_count": 46,
     "metadata": {},
     "output_type": "execute_result"
    }
   ],
   "source": [
    "from sklearn.cluster import DBSCAN\n",
    "from joblib import dump\n",
    "\n",
    "start = timer()\n",
    "dbscan_result = DBSCAN(metric = \"precomputed\", eps = 0.05, n_jobs = -1, min_samples = 5).fit(new_manhattan_dist)\n",
    "end = timer()\n",
    "print(str(end- start) + \"segundos para aprender\")\n",
    "\n",
    "dump(dbscan_result, \"dbscan_result_0_05.joblib\")"
   ]
  },
  {
   "cell_type": "code",
   "execution_count": 47,
   "metadata": {},
   "outputs": [
    {
     "name": "stdout",
     "output_type": "stream",
     "text": [
      "Counter({0: 41532, -1: 6746})\n"
     ]
    }
   ],
   "source": [
    "from collections import Counter\n",
    "c = Counter(list(dbscan_result.labels_))\n",
    "print(Counter(el for el in c.elements() if c[el] >= 1))"
   ]
  },
  {
   "cell_type": "markdown",
   "metadata": {},
   "source": [
    "### 2.3 - OPTICS (no se puede ejecutar, todavia en fase beta)"
   ]
  },
  {
   "cell_type": "code",
   "execution_count": null,
   "metadata": {},
   "outputs": [],
   "source": [
    "from sklearn.cluster import OPTICS\n",
    "from joblib import dump\n",
    "\n",
    "start = timer()\n",
    "optics_result = OPTICS(metric = \"precomputed\", n_jobs = -1).fit(manhattan_dist)\n",
    "end = timer()\n",
    "print(str(end- start) + \"segundos para aprender\")\n",
    "\n",
    "dump(optics_result, \"optics_result.joblib\")"
   ]
  },
  {
   "cell_type": "code",
   "execution_count": null,
   "metadata": {},
   "outputs": [],
   "source": [
    "import sklearn.cluster."
   ]
  }
 ],
 "metadata": {
  "kernelspec": {
   "display_name": "Python 3",
   "language": "python",
   "name": "python3"
  },
  "language_info": {
   "codemirror_mode": {
    "name": "ipython",
    "version": 3
   },
   "file_extension": ".py",
   "mimetype": "text/x-python",
   "name": "python",
   "nbconvert_exporter": "python",
   "pygments_lexer": "ipython3",
   "version": "3.7.1"
  }
 },
 "nbformat": 4,
 "nbformat_minor": 2
}
